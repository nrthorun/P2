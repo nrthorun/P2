{
 "cells": [
  {
   "cell_type": "markdown",
   "metadata": {},
   "source": [
    "## Project 2 - Data Analysis on Titanic's Passengers\n",
    "##### Author: Nikolas Thorun"
   ]
  },
  {
   "cell_type": "code",
   "execution_count": 1,
   "metadata": {},
   "outputs": [],
   "source": [
    "# import necessary libraries\n",
    "import pandas as pd\n",
    "import numpy as np\n",
    "import matplotlib.pyplot as plt\n",
    "import seaborn as sns"
   ]
  },
  {
   "cell_type": "code",
   "execution_count": 2,
   "metadata": {},
   "outputs": [],
   "source": [
    "# Loading the csv file to inside the variable\n",
    "titanic_pd = pd.read_csv('D:/Udacity/P2/titanic_data.csv')"
   ]
  },
  {
   "cell_type": "markdown",
   "metadata": {},
   "source": [
    "I will use the DataFrame because, when importing the data, the columns don't just come as 'string'; this facilitates the cleaning part, as I won't have to change the column types.\n",
    "\n",
    "### Introduction\n",
    "Before starting to explore the data, it is necessary to ask some questions. This way, the data can be analyzed in order to answer them. <br/>\n",
    "* What is the average age of passengers? <br/>\n",
    "* What is the average age of passengers by gender? <br/>\n",
    "* What is the proportion between survivors and non-survivors? <br/>\n",
    "* Is there a significant difference in the proportions of survivors between the genders? <br/>\n",
    "* Is age a significant factor in the survival rate? <br/>\n",
    "* Did first class passengers have the highest proportion of survivors? <br/>\n",
    "The Titanic is known to have passed through three cities before leaving to New York: <br/>\n",
    "* Is there a significant difference in city survival rates? <br/>\n",
    "* Can we draw any conclusions about these cities, analyzing their passengers?<br/>\n",
    "* Is there a relationship between age and ticket prices? That is, do older people have more money to buy more expensive tickets? <br/>\n",
    "The answers will be given below."
   ]
  },
  {
   "cell_type": "code",
   "execution_count": 3,
   "metadata": {},
   "outputs": [
    {
     "name": "stdout",
     "output_type": "stream",
     "text": [
      "891\n",
      "714\n"
     ]
    }
   ],
   "source": [
    "# Counting the total number of passengers and passengers that have the 'age' field filled in\n",
    "print(titanic_pd['PassengerId'].count())\n",
    "print(titanic_pd['Age'].count())"
   ]
  },
  {
   "cell_type": "markdown",
   "metadata": {},
   "source": [
    "### Data Cleaning\n",
    "\n",
    "In the imported DataFrame, we have 891 passengers, but only 714 have the age field filled out.\n",
    "There are people with an estimated age and I will use it as they are so the sample number is no further decreased.\n",
    "I will not change the type of the \"Survived\" column to Boolean, as I will use it to indicate the proportion of survivors."
   ]
  },
  {
   "cell_type": "code",
   "execution_count": 4,
   "metadata": {},
   "outputs": [],
   "source": [
    "# Remove only the passengers without the age field filled out\n",
    "titanic_pd = titanic_pd[np.isfinite(titanic_pd['Age'])]"
   ]
  },
  {
   "cell_type": "code",
   "execution_count": 5,
   "metadata": {},
   "outputs": [
    {
     "data": {
      "text/plain": [
       "714"
      ]
     },
     "execution_count": 5,
     "metadata": {},
     "output_type": "execute_result"
    }
   ],
   "source": [
    "# checking the values to see if they match\n",
    "len(titanic_pd)"
   ]
  },
  {
   "cell_type": "markdown",
   "metadata": {},
   "source": [
    "Okay, now I have all 714 passengers who are of the age described, even if estimated.\n",
    "\n",
    "### Data Analysis\n",
    "\n",
    "What is the average age of passengers? What is the proportion of survivors?"
   ]
  },
  {
   "cell_type": "code",
   "execution_count": 6,
   "metadata": {
    "scrolled": true
   },
   "outputs": [
    {
     "data": {
      "text/html": [
       "<div>\n",
       "<style scoped>\n",
       "    .dataframe tbody tr th:only-of-type {\n",
       "        vertical-align: middle;\n",
       "    }\n",
       "\n",
       "    .dataframe tbody tr th {\n",
       "        vertical-align: top;\n",
       "    }\n",
       "\n",
       "    .dataframe thead th {\n",
       "        text-align: right;\n",
       "    }\n",
       "</style>\n",
       "<table border=\"1\" class=\"dataframe\">\n",
       "  <thead>\n",
       "    <tr style=\"text-align: right;\">\n",
       "      <th></th>\n",
       "      <th>PassengerId</th>\n",
       "      <th>Survived</th>\n",
       "      <th>Pclass</th>\n",
       "      <th>Age</th>\n",
       "      <th>SibSp</th>\n",
       "      <th>Parch</th>\n",
       "      <th>Fare</th>\n",
       "    </tr>\n",
       "  </thead>\n",
       "  <tbody>\n",
       "    <tr>\n",
       "      <td>count</td>\n",
       "      <td>714.000000</td>\n",
       "      <td>714.000000</td>\n",
       "      <td>714.000000</td>\n",
       "      <td>714.000000</td>\n",
       "      <td>714.000000</td>\n",
       "      <td>714.000000</td>\n",
       "      <td>714.000000</td>\n",
       "    </tr>\n",
       "    <tr>\n",
       "      <td>mean</td>\n",
       "      <td>448.582633</td>\n",
       "      <td>0.406162</td>\n",
       "      <td>2.236695</td>\n",
       "      <td>29.699118</td>\n",
       "      <td>0.512605</td>\n",
       "      <td>0.431373</td>\n",
       "      <td>34.694514</td>\n",
       "    </tr>\n",
       "    <tr>\n",
       "      <td>std</td>\n",
       "      <td>259.119524</td>\n",
       "      <td>0.491460</td>\n",
       "      <td>0.838250</td>\n",
       "      <td>14.526497</td>\n",
       "      <td>0.929783</td>\n",
       "      <td>0.853289</td>\n",
       "      <td>52.918930</td>\n",
       "    </tr>\n",
       "    <tr>\n",
       "      <td>min</td>\n",
       "      <td>1.000000</td>\n",
       "      <td>0.000000</td>\n",
       "      <td>1.000000</td>\n",
       "      <td>0.420000</td>\n",
       "      <td>0.000000</td>\n",
       "      <td>0.000000</td>\n",
       "      <td>0.000000</td>\n",
       "    </tr>\n",
       "    <tr>\n",
       "      <td>25%</td>\n",
       "      <td>222.250000</td>\n",
       "      <td>0.000000</td>\n",
       "      <td>1.000000</td>\n",
       "      <td>20.125000</td>\n",
       "      <td>0.000000</td>\n",
       "      <td>0.000000</td>\n",
       "      <td>8.050000</td>\n",
       "    </tr>\n",
       "    <tr>\n",
       "      <td>50%</td>\n",
       "      <td>445.000000</td>\n",
       "      <td>0.000000</td>\n",
       "      <td>2.000000</td>\n",
       "      <td>28.000000</td>\n",
       "      <td>0.000000</td>\n",
       "      <td>0.000000</td>\n",
       "      <td>15.741700</td>\n",
       "    </tr>\n",
       "    <tr>\n",
       "      <td>75%</td>\n",
       "      <td>677.750000</td>\n",
       "      <td>1.000000</td>\n",
       "      <td>3.000000</td>\n",
       "      <td>38.000000</td>\n",
       "      <td>1.000000</td>\n",
       "      <td>1.000000</td>\n",
       "      <td>33.375000</td>\n",
       "    </tr>\n",
       "    <tr>\n",
       "      <td>max</td>\n",
       "      <td>891.000000</td>\n",
       "      <td>1.000000</td>\n",
       "      <td>3.000000</td>\n",
       "      <td>80.000000</td>\n",
       "      <td>5.000000</td>\n",
       "      <td>6.000000</td>\n",
       "      <td>512.329200</td>\n",
       "    </tr>\n",
       "  </tbody>\n",
       "</table>\n",
       "</div>"
      ],
      "text/plain": [
       "       PassengerId    Survived      Pclass         Age       SibSp  \\\n",
       "count   714.000000  714.000000  714.000000  714.000000  714.000000   \n",
       "mean    448.582633    0.406162    2.236695   29.699118    0.512605   \n",
       "std     259.119524    0.491460    0.838250   14.526497    0.929783   \n",
       "min       1.000000    0.000000    1.000000    0.420000    0.000000   \n",
       "25%     222.250000    0.000000    1.000000   20.125000    0.000000   \n",
       "50%     445.000000    0.000000    2.000000   28.000000    0.000000   \n",
       "75%     677.750000    1.000000    3.000000   38.000000    1.000000   \n",
       "max     891.000000    1.000000    3.000000   80.000000    5.000000   \n",
       "\n",
       "            Parch        Fare  \n",
       "count  714.000000  714.000000  \n",
       "mean     0.431373   34.694514  \n",
       "std      0.853289   52.918930  \n",
       "min      0.000000    0.000000  \n",
       "25%      0.000000    8.050000  \n",
       "50%      0.000000   15.741700  \n",
       "75%      1.000000   33.375000  \n",
       "max      6.000000  512.329200  "
      ]
     },
     "execution_count": 6,
     "metadata": {},
     "output_type": "execute_result"
    }
   ],
   "source": [
    "# shows the main dataframe statistics\n",
    "titanic_pd.describe()"
   ]
  },
  {
   "cell_type": "markdown",
   "metadata": {},
   "source": [
    "Average age of passengers: approximately 30 years old <br/>\n",
    "Population of survivors: 0.40, or 40% <br/>\n",
    "\n",
    "What is the frequency of passengers by age group?"
   ]
  },
  {
   "cell_type": "code",
   "execution_count": 33,
   "metadata": {},
   "outputs": [
    {
     "data": {
      "image/png": "[encoded data removed]",
      "text/plain": [
       "<Figure size 432x288 with 1 Axes>"
      ]
     },
     "metadata": {},
     "output_type": "display_data"
    }
   ],
   "source": [
    "# The histogram below shows the age distribution of passengers by age group (10 years).\n",
    "plt.hist(titanic_pd['Age'], bins=[0, 10, 20, 30, 40, 50, 60, 70], color=\"Steelblue\")\n",
    "plt.title(\"Passengers' Age\")\n",
    "plt.xlabel(\"Age\")\n",
    "plt.ylabel(\"Frequency\")\n",
    "sns.set_style(\"white\")\n",
    "plt.show()"
   ]
  },
  {
   "cell_type": "markdown",
   "metadata": {},
   "source": [
    "What is the number of passengers by gender? <br/>\n",
    "What are the average ages of men and women?"
   ]
  },
  {
   "cell_type": "code",
   "execution_count": 8,
   "metadata": {},
   "outputs": [
    {
     "name": "stdout",
     "output_type": "stream",
     "text": [
      "Sex\n",
      "female    261\n",
      "male      453\n",
      "Name: PassengerId, dtype: int64\n"
     ]
    },
    {
     "data": {
      "text/plain": [
       "Sex\n",
       "female    27.915709\n",
       "male      30.726645\n",
       "Name: Age, dtype: float64"
      ]
     },
     "execution_count": 8,
     "metadata": {},
     "output_type": "execute_result"
    }
   ],
   "source": [
    "print(titanic_pd['PassengerId'].groupby(titanic_pd['Sex']).count())\n",
    "titanic_pd['Age'].groupby(titanic_pd['Sex']).mean()"
   ]
  },
  {
   "cell_type": "markdown",
   "metadata": {},
   "source": [
    "Average of 261 Women: Approximately 28 years old <br/>\n",
    "Average of 453 Men: Approximately 31 years old <br/>\n",
    "But why so many more men than women? 453/714 ~ 0.63 <br/>\n",
    "Approximately 63% of passengers in the analyzed sample are male."
   ]
  },
  {
   "cell_type": "code",
   "execution_count": 9,
   "metadata": {},
   "outputs": [
    {
     "name": "stdout",
     "output_type": "stream",
     "text": [
      "290\n",
      "424\n"
     ]
    }
   ],
   "source": [
    "# Separating passengers between survivors and non-survivors and checking the numbers\n",
    "survived = titanic_pd.loc[titanic_pd['Survived']==1]\n",
    "died = titanic_pd.loc[titanic_pd['Survived']==0]\n",
    "print(len(survived))\n",
    "print(len(died))"
   ]
  },
  {
   "cell_type": "markdown",
   "metadata": {},
   "source": [
    "Double-Check: <br/>\n",
    "290 / (290 + 424) = 0.40 <br/>\n",
    "Ok, it's correct.\n",
    "\n",
    "What is the average age among survivors?"
   ]
  },
  {
   "cell_type": "code",
   "execution_count": 10,
   "metadata": {},
   "outputs": [
    {
     "data": {
      "text/html": [
       "<div>\n",
       "<style scoped>\n",
       "    .dataframe tbody tr th:only-of-type {\n",
       "        vertical-align: middle;\n",
       "    }\n",
       "\n",
       "    .dataframe tbody tr th {\n",
       "        vertical-align: top;\n",
       "    }\n",
       "\n",
       "    .dataframe thead th {\n",
       "        text-align: right;\n",
       "    }\n",
       "</style>\n",
       "<table border=\"1\" class=\"dataframe\">\n",
       "  <thead>\n",
       "    <tr style=\"text-align: right;\">\n",
       "      <th></th>\n",
       "      <th>PassengerId</th>\n",
       "      <th>Survived</th>\n",
       "      <th>Pclass</th>\n",
       "      <th>Age</th>\n",
       "      <th>SibSp</th>\n",
       "      <th>Parch</th>\n",
       "      <th>Fare</th>\n",
       "    </tr>\n",
       "  </thead>\n",
       "  <tbody>\n",
       "    <tr>\n",
       "      <td>count</td>\n",
       "      <td>290.000000</td>\n",
       "      <td>290.0</td>\n",
       "      <td>290.000000</td>\n",
       "      <td>290.000000</td>\n",
       "      <td>290.000000</td>\n",
       "      <td>290.000000</td>\n",
       "      <td>290.000000</td>\n",
       "    </tr>\n",
       "    <tr>\n",
       "      <td>mean</td>\n",
       "      <td>457.768966</td>\n",
       "      <td>1.0</td>\n",
       "      <td>1.872414</td>\n",
       "      <td>28.343690</td>\n",
       "      <td>0.493103</td>\n",
       "      <td>0.527586</td>\n",
       "      <td>51.843205</td>\n",
       "    </tr>\n",
       "    <tr>\n",
       "      <td>std</td>\n",
       "      <td>250.845515</td>\n",
       "      <td>0.0</td>\n",
       "      <td>0.836617</td>\n",
       "      <td>14.950952</td>\n",
       "      <td>0.731132</td>\n",
       "      <td>0.807147</td>\n",
       "      <td>70.458776</td>\n",
       "    </tr>\n",
       "    <tr>\n",
       "      <td>min</td>\n",
       "      <td>2.000000</td>\n",
       "      <td>1.0</td>\n",
       "      <td>1.000000</td>\n",
       "      <td>0.420000</td>\n",
       "      <td>0.000000</td>\n",
       "      <td>0.000000</td>\n",
       "      <td>0.000000</td>\n",
       "    </tr>\n",
       "    <tr>\n",
       "      <td>25%</td>\n",
       "      <td>260.500000</td>\n",
       "      <td>1.0</td>\n",
       "      <td>1.000000</td>\n",
       "      <td>19.000000</td>\n",
       "      <td>0.000000</td>\n",
       "      <td>0.000000</td>\n",
       "      <td>13.000000</td>\n",
       "    </tr>\n",
       "    <tr>\n",
       "      <td>50%</td>\n",
       "      <td>452.000000</td>\n",
       "      <td>1.0</td>\n",
       "      <td>2.000000</td>\n",
       "      <td>28.000000</td>\n",
       "      <td>0.000000</td>\n",
       "      <td>0.000000</td>\n",
       "      <td>26.250000</td>\n",
       "    </tr>\n",
       "    <tr>\n",
       "      <td>75%</td>\n",
       "      <td>669.500000</td>\n",
       "      <td>1.0</td>\n",
       "      <td>3.000000</td>\n",
       "      <td>36.000000</td>\n",
       "      <td>1.000000</td>\n",
       "      <td>1.000000</td>\n",
       "      <td>66.200000</td>\n",
       "    </tr>\n",
       "    <tr>\n",
       "      <td>max</td>\n",
       "      <td>890.000000</td>\n",
       "      <td>1.0</td>\n",
       "      <td>3.000000</td>\n",
       "      <td>80.000000</td>\n",
       "      <td>4.000000</td>\n",
       "      <td>5.000000</td>\n",
       "      <td>512.329200</td>\n",
       "    </tr>\n",
       "  </tbody>\n",
       "</table>\n",
       "</div>"
      ],
      "text/plain": [
       "       PassengerId  Survived      Pclass         Age       SibSp       Parch  \\\n",
       "count   290.000000     290.0  290.000000  290.000000  290.000000  290.000000   \n",
       "mean    457.768966       1.0    1.872414   28.343690    0.493103    0.527586   \n",
       "std     250.845515       0.0    0.836617   14.950952    0.731132    0.807147   \n",
       "min       2.000000       1.0    1.000000    0.420000    0.000000    0.000000   \n",
       "25%     260.500000       1.0    1.000000   19.000000    0.000000    0.000000   \n",
       "50%     452.000000       1.0    2.000000   28.000000    0.000000    0.000000   \n",
       "75%     669.500000       1.0    3.000000   36.000000    1.000000    1.000000   \n",
       "max     890.000000       1.0    3.000000   80.000000    4.000000    5.000000   \n",
       "\n",
       "             Fare  \n",
       "count  290.000000  \n",
       "mean    51.843205  \n",
       "std     70.458776  \n",
       "min      0.000000  \n",
       "25%     13.000000  \n",
       "50%     26.250000  \n",
       "75%     66.200000  \n",
       "max    512.329200  "
      ]
     },
     "execution_count": 10,
     "metadata": {},
     "output_type": "execute_result"
    }
   ],
   "source": [
    "survived.describe()"
   ]
  },
  {
   "cell_type": "markdown",
   "metadata": {},
   "source": [
    "Average age among survivors: approximately 28 years old<br/>\n",
    "\n",
    "What is the average age among non-survivors?"
   ]
  },
  {
   "cell_type": "code",
   "execution_count": 11,
   "metadata": {},
   "outputs": [
    {
     "data": {
      "text/html": [
       "<div>\n",
       "<style scoped>\n",
       "    .dataframe tbody tr th:only-of-type {\n",
       "        vertical-align: middle;\n",
       "    }\n",
       "\n",
       "    .dataframe tbody tr th {\n",
       "        vertical-align: top;\n",
       "    }\n",
       "\n",
       "    .dataframe thead th {\n",
       "        text-align: right;\n",
       "    }\n",
       "</style>\n",
       "<table border=\"1\" class=\"dataframe\">\n",
       "  <thead>\n",
       "    <tr style=\"text-align: right;\">\n",
       "      <th></th>\n",
       "      <th>PassengerId</th>\n",
       "      <th>Survived</th>\n",
       "      <th>Pclass</th>\n",
       "      <th>Age</th>\n",
       "      <th>SibSp</th>\n",
       "      <th>Parch</th>\n",
       "      <th>Fare</th>\n",
       "    </tr>\n",
       "  </thead>\n",
       "  <tbody>\n",
       "    <tr>\n",
       "      <td>count</td>\n",
       "      <td>424.000000</td>\n",
       "      <td>424.0</td>\n",
       "      <td>424.000000</td>\n",
       "      <td>424.000000</td>\n",
       "      <td>424.000000</td>\n",
       "      <td>424.000000</td>\n",
       "      <td>424.000000</td>\n",
       "    </tr>\n",
       "    <tr>\n",
       "      <td>mean</td>\n",
       "      <td>442.299528</td>\n",
       "      <td>0.0</td>\n",
       "      <td>2.485849</td>\n",
       "      <td>30.626179</td>\n",
       "      <td>0.525943</td>\n",
       "      <td>0.365566</td>\n",
       "      <td>22.965456</td>\n",
       "    </tr>\n",
       "    <tr>\n",
       "      <td>std</td>\n",
       "      <td>264.739548</td>\n",
       "      <td>0.0</td>\n",
       "      <td>0.743633</td>\n",
       "      <td>14.172110</td>\n",
       "      <td>1.044760</td>\n",
       "      <td>0.878341</td>\n",
       "      <td>31.448825</td>\n",
       "    </tr>\n",
       "    <tr>\n",
       "      <td>min</td>\n",
       "      <td>1.000000</td>\n",
       "      <td>0.0</td>\n",
       "      <td>1.000000</td>\n",
       "      <td>1.000000</td>\n",
       "      <td>0.000000</td>\n",
       "      <td>0.000000</td>\n",
       "      <td>0.000000</td>\n",
       "    </tr>\n",
       "    <tr>\n",
       "      <td>25%</td>\n",
       "      <td>200.750000</td>\n",
       "      <td>0.0</td>\n",
       "      <td>2.000000</td>\n",
       "      <td>21.000000</td>\n",
       "      <td>0.000000</td>\n",
       "      <td>0.000000</td>\n",
       "      <td>7.895800</td>\n",
       "    </tr>\n",
       "    <tr>\n",
       "      <td>50%</td>\n",
       "      <td>436.000000</td>\n",
       "      <td>0.0</td>\n",
       "      <td>3.000000</td>\n",
       "      <td>28.000000</td>\n",
       "      <td>0.000000</td>\n",
       "      <td>0.000000</td>\n",
       "      <td>11.887500</td>\n",
       "    </tr>\n",
       "    <tr>\n",
       "      <td>75%</td>\n",
       "      <td>683.250000</td>\n",
       "      <td>0.0</td>\n",
       "      <td>3.000000</td>\n",
       "      <td>39.000000</td>\n",
       "      <td>1.000000</td>\n",
       "      <td>0.000000</td>\n",
       "      <td>26.550000</td>\n",
       "    </tr>\n",
       "    <tr>\n",
       "      <td>max</td>\n",
       "      <td>891.000000</td>\n",
       "      <td>0.0</td>\n",
       "      <td>3.000000</td>\n",
       "      <td>74.000000</td>\n",
       "      <td>5.000000</td>\n",
       "      <td>6.000000</td>\n",
       "      <td>263.000000</td>\n",
       "    </tr>\n",
       "  </tbody>\n",
       "</table>\n",
       "</div>"
      ],
      "text/plain": [
       "       PassengerId  Survived      Pclass         Age       SibSp       Parch  \\\n",
       "count   424.000000     424.0  424.000000  424.000000  424.000000  424.000000   \n",
       "mean    442.299528       0.0    2.485849   30.626179    0.525943    0.365566   \n",
       "std     264.739548       0.0    0.743633   14.172110    1.044760    0.878341   \n",
       "min       1.000000       0.0    1.000000    1.000000    0.000000    0.000000   \n",
       "25%     200.750000       0.0    2.000000   21.000000    0.000000    0.000000   \n",
       "50%     436.000000       0.0    3.000000   28.000000    0.000000    0.000000   \n",
       "75%     683.250000       0.0    3.000000   39.000000    1.000000    0.000000   \n",
       "max     891.000000       0.0    3.000000   74.000000    5.000000    6.000000   \n",
       "\n",
       "             Fare  \n",
       "count  424.000000  \n",
       "mean    22.965456  \n",
       "std     31.448825  \n",
       "min      0.000000  \n",
       "25%      7.895800  \n",
       "50%     11.887500  \n",
       "75%     26.550000  \n",
       "max    263.000000  "
      ]
     },
     "execution_count": 11,
     "metadata": {},
     "output_type": "execute_result"
    }
   ],
   "source": [
    "died.describe()"
   ]
  },
  {
   "cell_type": "markdown",
   "metadata": {},
   "source": [
    "Average age among non-survivors: approximately 31 years old<br/>\n",
    "\n",
    "What is the proportion of survivors and non-survivors by age group?"
   ]
  },
  {
   "cell_type": "code",
   "execution_count": 12,
   "metadata": {},
   "outputs": [
    {
     "data": {
      "image/png": "[encoded data removed]",
      "text/plain": [
       "<Figure size 432x288 with 1 Axes>"
      ]
     },
     "metadata": {},
     "output_type": "display_data"
    }
   ],
   "source": [
    "# The histogram below shows the age distribution of passengers by 10-year age groups grouped by\n",
    "# survivors / non-survivors\n",
    "x1 = survived['Age']\n",
    "x2 = died['Age']\n",
    "plt.hist([x1,x2], bins=[0, 10, 20, 30, 40, 50, 60, 70], stacked=True, color=[\"Steelblue\",\"Seagreen\"])\n",
    "plt.title(\"Passengers: Blue = Survived; Green = Not Survived\")\n",
    "plt.xlabel(\"Age\")\n",
    "plt.ylabel(\"Frequency\")\n",
    "plt.show()"
   ]
  },
  {
   "cell_type": "code",
   "execution_count": 13,
   "metadata": {},
   "outputs": [],
   "source": [
    "# Dividing groups of survivors and non-survivors by gender\n",
    "survived_men = survived.loc[survived['Sex']==\"male\"]\n",
    "survived_women = survived.loc[survived['Sex']==\"female\"]\n",
    "died_men = died.loc[died['Sex']==\"male\"]\n",
    "died_women = died.loc[died['Sex']==\"female\"]"
   ]
  },
  {
   "cell_type": "markdown",
   "metadata": {},
   "source": [
    "Is there a significant difference in the proportions of survivors between the genders?"
   ]
  },
  {
   "cell_type": "code",
   "execution_count": 14,
   "metadata": {},
   "outputs": [
    {
     "data": {
      "image/png": "[encoded data removed]",
      "text/plain": [
       "<Figure size 432x288 with 1 Axes>"
      ]
     },
     "metadata": {},
     "output_type": "display_data"
    }
   ],
   "source": [
    "# The histogram below shows the age distribution of male passengers by 10-year age groups grouped by\n",
    "# survivors / non-survivors\n",
    "x1 = survived_men['Age']\n",
    "x2 = died_men['Age']\n",
    "plt.hist([x1,x2], bins=[0, 10, 20, 30, 40, 50, 60, 70], stacked=True, color=[\"Steelblue\",\"Seagreen\"])\n",
    "plt.title(\"Male Passengers: Blue = Survived; Green = Not Survived\")\n",
    "plt.xlabel(\"Age\")\n",
    "plt.ylabel(\"Frequency\")\n",
    "plt.show()"
   ]
  },
  {
   "cell_type": "code",
   "execution_count": 15,
   "metadata": {},
   "outputs": [
    {
     "data": {
      "image/png": "[encoded data removed]",
      "text/plain": [
       "<Figure size 432x288 with 1 Axes>"
      ]
     },
     "metadata": {},
     "output_type": "display_data"
    }
   ],
   "source": [
    "# The histogram below shows the age distribution of female passengers by 10-year age groups grouped by\n",
    "# survivors / non-survivors\n",
    "x1 = survived_women['Age']\n",
    "x2 = died_women['Age']\n",
    "plt.hist([x1,x2], bins=[0, 10, 20, 30, 40, 50, 60, 70], stacked=True, color=[\"Steelblue\",\"Seagreen\"])\n",
    "plt.title(\"Female Passengers: Blue = Survived; Green = Not Survived\")\n",
    "plt.xlabel(\"Age\")\n",
    "plt.ylabel(\"Frequency\")\n",
    "plt.show()"
   ]
  },
  {
   "cell_type": "code",
   "execution_count": 16,
   "metadata": {},
   "outputs": [
    {
     "name": "stdout",
     "output_type": "stream",
     "text": [
      "Men that survived:  93\n",
      "Women that survived:  197\n",
      "Men that did not survive:  360\n",
      "Women that did not survive:  64\n"
     ]
    }
   ],
   "source": [
    "# The graphs above give an idea of proportion, but to have an idea in absolute numbers, we would have to add\n",
    "# the numbers of each subdivision\n",
    "# To see the number of men and women grouped by survivors and non-survivors:\n",
    "print(\"Men that survived: \" , len(survived_men))\n",
    "print(\"Women that survived: \" , len(survived_women))\n",
    "print(\"Men that did not survive: \" , len(died_men))\n",
    "print(\"Women that did not survive: \" , len(died_women))\n"
   ]
  },
  {
   "cell_type": "markdown",
   "metadata": {},
   "source": [
    "The proportion of surviving women is 2x higher than that of surviving men.\n",
    "That is why the average age among survivors is more similar to the average age of women;\n",
    "and the average age among non-survivors is more similar to the average age of men <br/>\n",
    "Men account for almost 85% of the dead."
   ]
  },
  {
   "cell_type": "code",
   "execution_count": 17,
   "metadata": {},
   "outputs": [
    {
     "data": {
      "text/plain": [
       "Sex\n",
       "female    0.754789\n",
       "male      0.205298\n",
       "Name: Survived, dtype: float64"
      ]
     },
     "execution_count": 17,
     "metadata": {},
     "output_type": "execute_result"
    }
   ],
   "source": [
    "# Average of survivors by gender - To have an idea in relative numbers\n",
    "titanic_pd['Survived'].groupby(titanic_pd['Sex']).mean()\n"
   ]
  },
  {
   "cell_type": "markdown",
   "metadata": {},
   "source": [
    "Only 20% of men survived <br/>\n",
    "While 75% of women survived <br/>\n",
    "Why? <br/>\n",
    "It is possible that they have given preference to women and children when embarking on lifeboats. <br/>\n",
    "\n",
    "Among the children, how many survived and how many died? <br/>\n",
    "And what classes were they from?"
   ]
  },
  {
   "cell_type": "code",
   "execution_count": 18,
   "metadata": {},
   "outputs": [
    {
     "name": "stdout",
     "output_type": "stream",
     "text": [
      "Children that survived:  45\n",
      "Children that did not survive:  32\n",
      "Survivors grouped by class:  Pclass\n",
      "1     4\n",
      "2    19\n",
      "3    22\n",
      "Name: PassengerId, dtype: int64\n",
      "Non-survivors grouped by class:  Pclass\n",
      "1     1\n",
      "3    31\n",
      "Name: PassengerId, dtype: int64\n",
      "Survivors grouped by gender:  Sex\n",
      "female    24\n",
      "male      21\n",
      "Name: PassengerId, dtype: int64\n",
      "Non survivors grouped by gender:  Sex\n",
      "female    14\n",
      "male      18\n",
      "Name: PassengerId, dtype: int64\n"
     ]
    }
   ],
   "source": [
    "print(\"Children that survived: \",survived['PassengerId'][survived['Age']<=14].count())\n",
    "print(\"Children that did not survive: \",died['PassengerId'][died['Age']<=14].count())\n",
    "print(\"Survivors grouped by class: \",survived['PassengerId'][survived['Age']<=14].groupby(titanic_pd['Pclass']).count())\n",
    "print(\"Non-survivors grouped by class: \",died['PassengerId'][died['Age']<=14].groupby(titanic_pd['Pclass']).count())\n",
    "print(\"Survivors grouped by gender: \",survived['PassengerId'][survived['Age']<=14].groupby(titanic_pd['Sex']).count())\n",
    "print(\"Non survivors grouped by gender: \",died['PassengerId'][died['Age']<=14].groupby(titanic_pd['Sex']).count())"
   ]
  },
  {
   "cell_type": "markdown",
   "metadata": {},
   "source": [
    "It seems that the children have gained priority to board the boats,\n",
    "we can see that the percentage of children that survived is almost 60%, with the majority of non-survivors\n",
    "from third class. As the third class was the lowest part of the ship, it is possible that many of these children\n",
    "didn't even make it to the deck, where the boats were. <br/>\n",
    "The proportion of survivors by gender among children proves this, 21 boys and 24 girls.\n",
    "While among adults, 93 men and 197 women. <br/>\n",
    "\n",
    "Returning to the passengers of the Titanic as a whole: <br/>\n",
    "Did first class passengers have the highest proportion of survivors?"
   ]
  },
  {
   "cell_type": "code",
   "execution_count": 19,
   "metadata": {},
   "outputs": [
    {
     "name": "stdout",
     "output_type": "stream",
     "text": [
      "Proportion of survivors by class:  Pclass\n",
      "1    0.655914\n",
      "2    0.479769\n",
      "3    0.239437\n",
      "Name: Survived, dtype: float64\n",
      "Number of passengers by class:  Pclass\n",
      "1    186\n",
      "2    173\n",
      "3    355\n",
      "Name: Survived, dtype: int64\n"
     ]
    }
   ],
   "source": [
    "# Average Survivors by Class\n",
    "print(\"Proportion of survivors by class: \",titanic_pd['Survived'].groupby(titanic_pd['Pclass']).mean())\n",
    "print(\"Number of passengers by class: \",titanic_pd['Survived'].groupby(titanic_pd['Pclass']).count())"
   ]
  },
  {
   "cell_type": "markdown",
   "metadata": {},
   "source": [
    "Classes were divided on the Titanic as follows:\n",
    "On the floors closest to the deck, there was first class\n",
    "On the lower floors, closer to the engine room, was the third class\n",
    "And on the middle floors, the second class\n",
    "As it's depicted below:\n",
    "![Titanic](https://upload.wikimedia.org/wikipedia/commons/thumb/8/84/Titanic_cutaway_diagram.png/400px-Titanic_cutaway_diagram.png)\n",
    "\n",
    "As they are closer to the deck, it makes sense for the proportion of survivors among the upper classes to be higher."
   ]
  },
  {
   "cell_type": "code",
   "execution_count": 20,
   "metadata": {},
   "outputs": [
    {
     "data": {
      "image/png": "[encoded data removed]",
      "text/plain": [
       "<Figure size 498.125x432 with 1 Axes>"
      ]
     },
     "metadata": {},
     "output_type": "display_data"
    }
   ],
   "source": [
    "# The histogram below shows the proportion of survivors by class, divided by gender\n",
    "g = sns.catplot(x=\"Pclass\", y=\"Survived\", hue=\"Sex\", data=titanic_pd, height=6, kind=\"bar\", palette=\"muted\")\n",
    "g.despine(left=True)\n",
    "g.set_xlabels(\"Class\")\n",
    "g.set_ylabels(\"Survival Proportion\")\n",
    "g.fig.suptitle(\"Class vs. Survival Proportion\")\n",
    "plt.show()"
   ]
  },
  {
   "cell_type": "code",
   "execution_count": 21,
   "metadata": {},
   "outputs": [
    {
     "data": {
      "text/plain": [
       "Pclass\n",
       "1    40\n",
       "2    15\n",
       "3    38\n",
       "Name: Survived, dtype: int64"
      ]
     },
     "execution_count": 21,
     "metadata": {},
     "output_type": "execute_result"
    }
   ],
   "source": [
    "# Absolute numbers of male survivors by class\n",
    "survived_men['Survived'].groupby(titanic_pd['Pclass']).sum()"
   ]
  },
  {
   "cell_type": "code",
   "execution_count": 22,
   "metadata": {},
   "outputs": [
    {
     "data": {
      "text/plain": [
       "Pclass\n",
       "1    82\n",
       "2    68\n",
       "3    47\n",
       "Name: Survived, dtype: int64"
      ]
     },
     "execution_count": 22,
     "metadata": {},
     "output_type": "execute_result"
    }
   ],
   "source": [
    "# Absolute numbers of female survivors by Class\n",
    "survived_women['Survived'].groupby(titanic_pd['Pclass']).sum()"
   ]
  },
  {
   "cell_type": "markdown",
   "metadata": {},
   "source": [
    "We can see in absolute numbers that first class passengers had a better chance of survival, probably because they were closer to the deck. <br/>\n",
    "\n",
    "What can we say about the boarding cities and their passengers?"
   ]
  },
  {
   "cell_type": "code",
   "execution_count": 23,
   "metadata": {},
   "outputs": [
    {
     "data": {
      "text/plain": [
       "Embarked\n",
       "C    130\n",
       "Q     28\n",
       "S    554\n",
       "Name: PassengerId, dtype: int64"
      ]
     },
     "execution_count": 23,
     "metadata": {},
     "output_type": "execute_result"
    }
   ],
   "source": [
    "# Absolute numbers of passengers by departure city\n",
    "titanic_pd['PassengerId'].groupby(titanic_pd['Embarked']).count()"
   ]
  },
  {
   "cell_type": "code",
   "execution_count": 24,
   "metadata": {},
   "outputs": [
    {
     "data": {
      "text/plain": [
       "Embarked\n",
       "C    0.607692\n",
       "Q    0.285714\n",
       "S    0.362816\n",
       "Name: Survived, dtype: float64"
      ]
     },
     "execution_count": 24,
     "metadata": {},
     "output_type": "execute_result"
    }
   ],
   "source": [
    "# Average survivor by boarding city\n",
    "titanic_pd['Survived'].groupby(titanic_pd['Embarked']).mean()"
   ]
  },
  {
   "cell_type": "code",
   "execution_count": 25,
   "metadata": {},
   "outputs": [
    {
     "data": {
      "text/plain": [
       "Embarked\n",
       "C    68.296767\n",
       "Q    18.265775\n",
       "S    27.476284\n",
       "Name: Fare, dtype: float64"
      ]
     },
     "execution_count": 25,
     "metadata": {},
     "output_type": "execute_result"
    }
   ],
   "source": [
    "# Average ticket price per city of departure\n",
    "titanic_pd['Fare'].groupby(titanic_pd['Embarked']).mean()"
   ]
  },
  {
   "cell_type": "markdown",
   "metadata": {},
   "source": [
    "With the information above we can get a sense that Southampton is the most populous city;\n",
    "Queenstown is the poorest city and Cherbourg the richest city. <br/>\n",
    "Shall we look more deeply? <br/>"
   ]
  },
  {
   "cell_type": "code",
   "execution_count": 26,
   "metadata": {},
   "outputs": [
    {
     "data": {
      "text/plain": [
       "Pclass\n",
       "1    74\n",
       "2    15\n",
       "3    41\n",
       "Name: PassengerId, dtype: int64"
      ]
     },
     "execution_count": 26,
     "metadata": {},
     "output_type": "execute_result"
    }
   ],
   "source": [
    "# Distribution of passengers by class, in the city of Cherbourg\n",
    "titanic_pd['PassengerId'][titanic_pd['Embarked']==\"C\"].groupby(titanic_pd[\"Pclass\"]).count()"
   ]
  },
  {
   "cell_type": "markdown",
   "metadata": {},
   "source": [
    "Porcentagem de passageiros da primeira classe = 56%"
   ]
  },
  {
   "cell_type": "code",
   "execution_count": 27,
   "metadata": {},
   "outputs": [
    {
     "data": {
      "text/plain": [
       "Pclass\n",
       "1     2\n",
       "2     2\n",
       "3    24\n",
       "Name: PassengerId, dtype: int64"
      ]
     },
     "execution_count": 27,
     "metadata": {},
     "output_type": "execute_result"
    }
   ],
   "source": [
    "# Distribution of passengers by Class, in the city of Queenstown\n",
    "titanic_pd['PassengerId'][titanic_pd['Embarked']==\"Q\"].groupby(titanic_pd[\"Pclass\"]).count()"
   ]
  },
  {
   "cell_type": "markdown",
   "metadata": {},
   "source": [
    "Porcentagem de passageiros da terceira classe = 85%"
   ]
  },
  {
   "cell_type": "code",
   "execution_count": 28,
   "metadata": {},
   "outputs": [
    {
     "data": {
      "text/plain": [
       "Pclass\n",
       "1    108\n",
       "2    156\n",
       "3    290\n",
       "Name: PassengerId, dtype: int64"
      ]
     },
     "execution_count": 28,
     "metadata": {},
     "output_type": "execute_result"
    }
   ],
   "source": [
    "# Distribution of passengers by Class, in the city of Southampton\n",
    "titanic_pd['PassengerId'][titanic_pd['Embarked']==\"S\"].groupby(titanic_pd[\"Pclass\"]).count()"
   ]
  },
  {
   "cell_type": "markdown",
   "metadata": {},
   "source": [
    "Percentage of first class passengers = 20% <br/>\n",
    "With that, we infer that Southampton is the most populous city; Cherbourg the most elite city;\n",
    "and Queenstown the poorest and / or least populated city."
   ]
  },
  {
   "cell_type": "code",
   "execution_count": 29,
   "metadata": {},
   "outputs": [
    {
     "data": {
      "text/html": [
       "<div>\n",
       "<style scoped>\n",
       "    .dataframe tbody tr th:only-of-type {\n",
       "        vertical-align: middle;\n",
       "    }\n",
       "\n",
       "    .dataframe tbody tr th {\n",
       "        vertical-align: top;\n",
       "    }\n",
       "\n",
       "    .dataframe thead th {\n",
       "        text-align: right;\n",
       "    }\n",
       "</style>\n",
       "<table border=\"1\" class=\"dataframe\">\n",
       "  <thead>\n",
       "    <tr style=\"text-align: right;\">\n",
       "      <th></th>\n",
       "      <th>Age</th>\n",
       "      <th>Fare</th>\n",
       "    </tr>\n",
       "  </thead>\n",
       "  <tbody>\n",
       "    <tr>\n",
       "      <td>Age</td>\n",
       "      <td>1.000000</td>\n",
       "      <td>0.096067</td>\n",
       "    </tr>\n",
       "    <tr>\n",
       "      <td>Fare</td>\n",
       "      <td>0.096067</td>\n",
       "      <td>1.000000</td>\n",
       "    </tr>\n",
       "  </tbody>\n",
       "</table>\n",
       "</div>"
      ],
      "text/plain": [
       "           Age      Fare\n",
       "Age   1.000000  0.096067\n",
       "Fare  0.096067  1.000000"
      ]
     },
     "execution_count": 29,
     "metadata": {},
     "output_type": "execute_result"
    }
   ],
   "source": [
    "# Correlate age and ticket price\n",
    "df = pd.read_csv('D:/Udacity/P2/titanic_data.csv', usecols=[5,9])\n",
    "df.corr()"
   ]
  },
  {
   "cell_type": "markdown",
   "metadata": {},
   "source": [
    "0.096 means that there is no correlation between the Age and Ticket price variables. <br/>\n",
    "I figured older people would buy more expensive tickets.\n",
    "Shall we see in a scatter plot?"
   ]
  },
  {
   "cell_type": "code",
   "execution_count": 30,
   "metadata": {},
   "outputs": [
    {
     "data": {
      "text/plain": [
       "Text(0.5, 0.98, 'Age vs. Fare')"
      ]
     },
     "execution_count": 30,
     "metadata": {},
     "output_type": "execute_result"
    },
    {
     "data": {
      "image/png": "[encoded data removed]",
      "text/plain": [
       "<Figure size 432x432 with 3 Axes>"
      ]
     },
     "metadata": {},
     "output_type": "display_data"
    }
   ],
   "source": [
    "# Plots the scatterplot\n",
    "g = sns.jointplot(x=\"Age\", y=\"Fare\", data=df, color=\"Steelblue\");\n",
    "g.fig.suptitle(\"Age vs. Fare\")"
   ]
  },
  {
   "cell_type": "markdown",
   "metadata": {},
   "source": [
    "We can see that the two variables really have no correlation."
   ]
  },
  {
   "cell_type": "code",
   "execution_count": 31,
   "metadata": {},
   "outputs": [
    {
     "name": "stdout",
     "output_type": "stream",
     "text": [
      "1.0\n",
      "36\n"
     ]
    }
   ],
   "source": [
    "# What was the group of at least 20 people, with the highest proportion of survivors?\n",
    "print(titanic_pd['Survived'][titanic_pd['Embarked']==\"C\"][titanic_pd[\"Sex\"]==\"female\"][titanic_pd[\"Pclass\"]==1][titanic_pd[\"Age\"]!=50].mean())\n",
    "print(titanic_pd['Survived'][titanic_pd['Embarked']==\"C\"][titanic_pd[\"Sex\"]==\"female\"][titanic_pd[\"Pclass\"]==1][titanic_pd[\"Age\"]!=50].count())"
   ]
  },
  {
   "cell_type": "markdown",
   "metadata": {},
   "source": [
    "All 36 women who embarked in first class in Cherbourg and were different than 50 years old, survived."
   ]
  },
  {
   "cell_type": "code",
   "execution_count": 32,
   "metadata": {},
   "outputs": [
    {
     "name": "stdout",
     "output_type": "stream",
     "text": [
      "0.06896551724137931\n",
      "29\n"
     ]
    }
   ],
   "source": [
    "# What was the group of at least 20 people, with the lowest proportion of survivors?\n",
    "print(titanic_pd['Survived'][titanic_pd['Embarked']==\"S\"][titanic_pd[\"Sex\"]==\"male\"][titanic_pd[\"Pclass\"]==3][titanic_pd[\"Age\"]>=40].mean())\n",
    "print(titanic_pd['Survived'][titanic_pd['Embarked']==\"S\"][titanic_pd[\"Sex\"]==\"male\"][titanic_pd[\"Pclass\"]==3][titanic_pd[\"Age\"]>=40].count())"
   ]
  },
  {
   "cell_type": "markdown",
   "metadata": {},
   "source": [
    "Dos 29 homens que embarcaram na terceira classe em Southampton, apenas 2 sobreviveram (aproximadamente 7%)"
   ]
  },
  {
   "cell_type": "markdown",
   "metadata": {},
   "source": [
    "### Limitations\n",
    "\n",
    "It is known that the ship Titanic sailed with 1316 passengers on board. The database contains only 891 of them. It would be interesting to have the data of all passengers, as well as the data of the crew, which totaled 889 people. In addition, I believe that when buying tickets, people have filled out a form listing their professions. It would be very interesting to compare the professional profile of the people on board. <br/>\n",
    "\n",
    "The most important category with missing data was age: of 891 passengers, only 714 have the age field filled out. Of these, 18 people are of estimated age. Another category with missing data that would serve for a more curious analysis is the cabin. A map of the ship could be made relating survival to the passenger cabin; that way it might be possible to know which part of the ship flooded first or was most affected. <br/>\n",
    "\n",
    "In addition, it would be of great value to know the boats with which each passenger was rescued, so it would be possible to know whether they were used with maximum capacity or not to estimate the number of passengers that could be saved if not.\n",
    "Finally, as a curiosity, if the address of each passenger was known, it could be done a mapping of the areas that suffered the most losses in each city."
   ]
  },
  {
   "cell_type": "markdown",
   "metadata": {
    "collapsed": true
   },
   "source": [
    "### Conclusions\n",
    " \n",
    "At first, the ratio of men to women on the ship made me doubt whether there were any crew members in the data.\n",
    "As all passengers were in some class, I inferred that they were all passengers and not crew members.\n",
    "As the ship sailed at the beginning of the 20th century, it is possible that there were men traveling for work without their wives, since they were not inserted in the labor market as they are today. <br/>\n",
    "\n",
    "Right at the beginning of the analysis, we see that the average age of survivors was very close to the average age of women and the average age of non-survivors was very close to the average age of men, indicating that the gender of passengers had an important role in the survival ratio. Analyzing the histograms that show survival by age group of both genders, we can infer that there was probably an order that favored the entry of women first into the lifeboats. In these same histograms, we see that the proportion of survivors among children is quite large, especially among boys. The proportion of surviving boys and girls is 47% -53%, quite different from the 32% -68% between men and women survivors. Thus, we see that children were probably also privileged to enter the boats.\n",
    "\n",
    "As expected, first class passengers had the highest proportion of survivors, followed by second class passengers; third-class passengers were the least surviving. As the accident happened around midnight, most of the passengers were in their rooms. And since the boats are on the deck, first class passengers, in theory, would take much less time to get there. Third class passengers, in addition to taking longer to reach the deck, still had to deal with the water coming in from the ship, which flooded the third class rooms first.\n",
    "\n",
    "We see that we can infer characteristics of cities by the number of passengers and the prices paid for them. The city of Cherbourg, France, had the highest proportion of survivors. Not coincidentally, this had the highest average ticket prices, therefore, the highest proportion of passengers in first class.\n",
    "\n",
    "Finally, I assumed that older passengers would have more money to buy the most expensive tickets, but as Pearson's r and the scatterplot showed, the assumption was erroneous.\n",
    "\n",
    "To verify the veracity of the conclusions of this analysis, hypotheses could be formulated and hypothesis tests carried out to confirm or reject them. However, the test results would not be definitive, due to data limitations; these can be significantly different if they include all passengers on board."
   ]
  }
 ],
 "metadata": {
  "anaconda-cloud": {},
  "kernelspec": {
   "display_name": "Python 3",
   "language": "python",
   "name": "python3"
  },
  "language_info": {
   "codemirror_mode": {
    "name": "ipython",
    "version": 3
   },
   "file_extension": ".py",
   "mimetype": "text/x-python",
   "name": "python",
   "nbconvert_exporter": "python",
   "pygments_lexer": "ipython3",
   "version": "3.7.4"
  }
 },
 "nbformat": 4,
 "nbformat_minor": 1
}
