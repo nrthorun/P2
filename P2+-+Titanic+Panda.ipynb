{
 "cells": [
  {
   "cell_type": "markdown",
   "metadata": {
    "collapsed": false
   },
   "source": [
    "## Projeto 2 - Análise de dados dos passageiros do Titanic\n",
    "##### Por Nikolas Thorun"
   ]
  },
  {
   "cell_type": "code",
   "execution_count": 1,
   "metadata": {
    "collapsed": true
   },
   "outputs": [],
   "source": [
    "# importa as bibliotecas necessárias\n",
    "import pandas as pd\n",
    "import numpy as np\n",
    "import matplotlib.pyplot as plt\n",
    "import seaborn as sns"
   ]
  },
  {
   "cell_type": "code",
   "execution_count": 2,
   "metadata": {
    "collapsed": true
   },
   "outputs": [],
   "source": [
    "# Carregando o arquivo para dentro da variável\n",
    "titanic_pd = pd.read_csv('D:/Udacity/P2/titanic_data.csv')"
   ]
  },
  {
   "cell_type": "markdown",
   "metadata": {},
   "source": [
    "Utilizarei o DataFrame porque, ao importar os dados, as colunas não vêm apenas com tipos 'string'; isso facilita a parte de limpeza, pois não precisarei mudar os tipos das colunas.\n",
    "\n",
    "### Introdução\n",
    "Antes de começar a explorar os dados, se faz necessária a formulação de algumas perguntas. Assim, os dados poderão ser analisados de forma a respondê-las. <br/>\n",
    "* Qual é a média de idade dos passageiros? <br/>\n",
    "* Qual é a média de idade dos passageiros, separada por sexo? <br/>\n",
    "* Qual a proporção entre sobreviventes e não sobreviventes? <br/>\n",
    "* Há diferença significativa nas proporções de sobreviventes entre os sexos? <br/>\n",
    "* A idade é um fator significante na taxa de sobrevivência? <br/>\n",
    "* Os passageiros da primeira classe tiveram a maior proporção de sobreviventes? <br/>\n",
    "Sabe-se que o Titanic passou por três cidades antes de partir para Nova York: <br/>\n",
    "* Existe diferença significativa nas taxas de sobrevivênvia das cidades? <br/>\n",
    "* Podemos tirar algumas conclusões a respeito dessas cidades, analisando seus passageiros? <br/>\n",
    "* Existe relação entre idade e preço dos tickets? Ou seja, as pessoas mais velhas têm mais dinheiro para comprar passagens mais caras? <br/>\n",
    "As respostas serão dadas abaixo."
   ]
  },
  {
   "cell_type": "code",
   "execution_count": 3,
   "metadata": {
    "collapsed": false
   },
   "outputs": [
    {
     "name": "stdout",
     "output_type": "stream",
     "text": [
      "891\n",
      "714\n"
     ]
    }
   ],
   "source": [
    "# Contando o total de passageiros e os passageiros que tem o campo 'idade' preenchido\n",
    "print titanic_pd['PassengerId'].count()\n",
    "print titanic_pd['Age'].count()"
   ]
  },
  {
   "cell_type": "markdown",
   "metadata": {},
   "source": [
    "### Limpeza de Dados\n",
    "\n",
    "No DataFrame importado, temos 891 passageiros, porém somente 714 possuem o campo de idade preenchido.\n",
    "Existem pessoas com a idade estimada, mas usarei as idades estimadas como estão para não diminuir mais o número da amostra.\n",
    "Não mudarei o tipo da coluna \"Survived\" para booleano, pois o usarei para indicar a proporção de sobreviventes."
   ]
  },
  {
   "cell_type": "code",
   "execution_count": 4,
   "metadata": {
    "collapsed": false
   },
   "outputs": [],
   "source": [
    "# Remover apenas os passageiros sem idade descrita\n",
    "titanic_pd = titanic_pd[np.isfinite(titanic_pd['Age'])]"
   ]
  },
  {
   "cell_type": "code",
   "execution_count": 5,
   "metadata": {
    "collapsed": false
   },
   "outputs": [
    {
     "data": {
      "text/plain": [
       "714"
      ]
     },
     "execution_count": 5,
     "metadata": {},
     "output_type": "execute_result"
    }
   ],
   "source": [
    "# conferindo os valores pra ver se batem\n",
    "len(titanic_pd)"
   ]
  },
  {
   "cell_type": "markdown",
   "metadata": {},
   "source": [
    "Ok, agora tenho todos os 714 passageiros que possuem idade descrita, mesmo que estimada.\n",
    "\n",
    "### Análise dos Dados\n",
    "\n",
    "Qual é a média de idade dos passageiros? Qual é a proporção de sobreviventes?"
   ]
  },
  {
   "cell_type": "code",
   "execution_count": 6,
   "metadata": {
    "collapsed": false,
    "scrolled": true
   },
   "outputs": [
    {
     "data": {
      "text/html": [
       "<div>\n",
       "<table border=\"1\" class=\"dataframe\">\n",
       "  <thead>\n",
       "    <tr style=\"text-align: right;\">\n",
       "      <th></th>\n",
       "      <th>PassengerId</th>\n",
       "      <th>Survived</th>\n",
       "      <th>Pclass</th>\n",
       "      <th>Age</th>\n",
       "      <th>SibSp</th>\n",
       "      <th>Parch</th>\n",
       "      <th>Fare</th>\n",
       "    </tr>\n",
       "  </thead>\n",
       "  <tbody>\n",
       "    <tr>\n",
       "      <th>count</th>\n",
       "      <td>714.000000</td>\n",
       "      <td>714.000000</td>\n",
       "      <td>714.000000</td>\n",
       "      <td>714.000000</td>\n",
       "      <td>714.000000</td>\n",
       "      <td>714.000000</td>\n",
       "      <td>714.000000</td>\n",
       "    </tr>\n",
       "    <tr>\n",
       "      <th>mean</th>\n",
       "      <td>448.582633</td>\n",
       "      <td>0.406162</td>\n",
       "      <td>2.236695</td>\n",
       "      <td>29.699118</td>\n",
       "      <td>0.512605</td>\n",
       "      <td>0.431373</td>\n",
       "      <td>34.694514</td>\n",
       "    </tr>\n",
       "    <tr>\n",
       "      <th>std</th>\n",
       "      <td>259.119524</td>\n",
       "      <td>0.491460</td>\n",
       "      <td>0.838250</td>\n",
       "      <td>14.526497</td>\n",
       "      <td>0.929783</td>\n",
       "      <td>0.853289</td>\n",
       "      <td>52.918930</td>\n",
       "    </tr>\n",
       "    <tr>\n",
       "      <th>min</th>\n",
       "      <td>1.000000</td>\n",
       "      <td>0.000000</td>\n",
       "      <td>1.000000</td>\n",
       "      <td>0.420000</td>\n",
       "      <td>0.000000</td>\n",
       "      <td>0.000000</td>\n",
       "      <td>0.000000</td>\n",
       "    </tr>\n",
       "    <tr>\n",
       "      <th>25%</th>\n",
       "      <td>222.250000</td>\n",
       "      <td>0.000000</td>\n",
       "      <td>1.000000</td>\n",
       "      <td>20.125000</td>\n",
       "      <td>0.000000</td>\n",
       "      <td>0.000000</td>\n",
       "      <td>8.050000</td>\n",
       "    </tr>\n",
       "    <tr>\n",
       "      <th>50%</th>\n",
       "      <td>445.000000</td>\n",
       "      <td>0.000000</td>\n",
       "      <td>2.000000</td>\n",
       "      <td>28.000000</td>\n",
       "      <td>0.000000</td>\n",
       "      <td>0.000000</td>\n",
       "      <td>15.741700</td>\n",
       "    </tr>\n",
       "    <tr>\n",
       "      <th>75%</th>\n",
       "      <td>677.750000</td>\n",
       "      <td>1.000000</td>\n",
       "      <td>3.000000</td>\n",
       "      <td>38.000000</td>\n",
       "      <td>1.000000</td>\n",
       "      <td>1.000000</td>\n",
       "      <td>33.375000</td>\n",
       "    </tr>\n",
       "    <tr>\n",
       "      <th>max</th>\n",
       "      <td>891.000000</td>\n",
       "      <td>1.000000</td>\n",
       "      <td>3.000000</td>\n",
       "      <td>80.000000</td>\n",
       "      <td>5.000000</td>\n",
       "      <td>6.000000</td>\n",
       "      <td>512.329200</td>\n",
       "    </tr>\n",
       "  </tbody>\n",
       "</table>\n",
       "</div>"
      ],
      "text/plain": [
       "       PassengerId    Survived      Pclass         Age       SibSp  \\\n",
       "count   714.000000  714.000000  714.000000  714.000000  714.000000   \n",
       "mean    448.582633    0.406162    2.236695   29.699118    0.512605   \n",
       "std     259.119524    0.491460    0.838250   14.526497    0.929783   \n",
       "min       1.000000    0.000000    1.000000    0.420000    0.000000   \n",
       "25%     222.250000    0.000000    1.000000   20.125000    0.000000   \n",
       "50%     445.000000    0.000000    2.000000   28.000000    0.000000   \n",
       "75%     677.750000    1.000000    3.000000   38.000000    1.000000   \n",
       "max     891.000000    1.000000    3.000000   80.000000    5.000000   \n",
       "\n",
       "            Parch        Fare  \n",
       "count  714.000000  714.000000  \n",
       "mean     0.431373   34.694514  \n",
       "std      0.853289   52.918930  \n",
       "min      0.000000    0.000000  \n",
       "25%      0.000000    8.050000  \n",
       "50%      0.000000   15.741700  \n",
       "75%      1.000000   33.375000  \n",
       "max      6.000000  512.329200  "
      ]
     },
     "execution_count": 6,
     "metadata": {},
     "output_type": "execute_result"
    }
   ],
   "source": [
    "# mostra as principais estatísticas sobre o DataFrame\n",
    "titanic_pd.describe()"
   ]
  },
  {
   "cell_type": "markdown",
   "metadata": {},
   "source": [
    "Média de idade dos passageiros: aproximadamente 30 anos<br/> \n",
    "Poporção de sobreviventes: 0.40, ou 40% <br/>\n",
    "\n",
    "Qual é a frequência de passageiros, por faixa de idade?"
   ]
  },
  {
   "cell_type": "code",
   "execution_count": 7,
   "metadata": {
    "collapsed": false
   },
   "outputs": [
    {
     "data": {
      "image/png": "[encoded data removed]",
      "text/plain": [
       "<matplotlib.figure.Figure at 0xb872630>"
      ]
     },
     "metadata": {},
     "output_type": "display_data"
    }
   ],
   "source": [
    "# O histograma abaixo mostra a distribuição de idade dos passageiros por faixas de 10 anos.\n",
    "plt.hist(titanic_pd['Age'], bins=[0, 10, 20, 30, 40, 50, 60, 70])\n",
    "plt.title(\"Passengers' Age\")\n",
    "plt.xlabel(\"Age\")\n",
    "plt.ylabel(\"Frequency\")\n",
    "plt.show()"
   ]
  },
  {
   "cell_type": "markdown",
   "metadata": {},
   "source": [
    "Qual é o número de passageiros por sexo? <br/>\n",
    "Qual são as médias de idade dos homens e das mulheres?"
   ]
  },
  {
   "cell_type": "code",
   "execution_count": 8,
   "metadata": {
    "collapsed": false
   },
   "outputs": [
    {
     "name": "stdout",
     "output_type": "stream",
     "text": [
      "Sex\n",
      "female    261\n",
      "male      453\n",
      "Name: PassengerId, dtype: int64\n"
     ]
    },
    {
     "data": {
      "text/plain": [
       "Sex\n",
       "female    27.915709\n",
       "male      30.726645\n",
       "Name: Age, dtype: float64"
      ]
     },
     "execution_count": 8,
     "metadata": {},
     "output_type": "execute_result"
    }
   ],
   "source": [
    "print titanic_pd['PassengerId'].groupby(titanic_pd['Sex']).count()\n",
    "titanic_pd['Age'].groupby(titanic_pd['Sex']).mean()"
   ]
  },
  {
   "cell_type": "markdown",
   "metadata": {},
   "source": [
    "Média das 261 Mulheres: Aproximadamente 28 anos <br/>\n",
    "Média dos 453 Homens: Aproximadamente 31 anos <br/>\n",
    "Mas por quê tantos homens a mais do que mulheres? 453/714 ~ 0.63 <br/>\n",
    "Aproximadamente 63% dos passageiros da amostra analisada são do sexo masculino."
   ]
  },
  {
   "cell_type": "code",
   "execution_count": 9,
   "metadata": {
    "collapsed": false
   },
   "outputs": [
    {
     "name": "stdout",
     "output_type": "stream",
     "text": [
      "290\n",
      "424\n"
     ]
    }
   ],
   "source": [
    "# Separando os passageiros entre sobreviventes e não sobreviventes e verificando os números\n",
    "survived = titanic_pd.loc[titanic_pd['Survived']==1]\n",
    "died = titanic_pd.loc[titanic_pd['Survived']==0]\n",
    "print len(survived)\n",
    "print len(died)"
   ]
  },
  {
   "cell_type": "markdown",
   "metadata": {},
   "source": [
    "Verificação: <br/>\n",
    "290/(290+424) = 0.40 <br/>\n",
    "Ok, está correto.\n",
    "\n",
    "Qual é a média de idade entre os sobreviventes?"
   ]
  },
  {
   "cell_type": "code",
   "execution_count": 10,
   "metadata": {
    "collapsed": false
   },
   "outputs": [
    {
     "data": {
      "text/html": [
       "<div>\n",
       "<table border=\"1\" class=\"dataframe\">\n",
       "  <thead>\n",
       "    <tr style=\"text-align: right;\">\n",
       "      <th></th>\n",
       "      <th>PassengerId</th>\n",
       "      <th>Survived</th>\n",
       "      <th>Pclass</th>\n",
       "      <th>Age</th>\n",
       "      <th>SibSp</th>\n",
       "      <th>Parch</th>\n",
       "      <th>Fare</th>\n",
       "    </tr>\n",
       "  </thead>\n",
       "  <tbody>\n",
       "    <tr>\n",
       "      <th>count</th>\n",
       "      <td>290.000000</td>\n",
       "      <td>290.0</td>\n",
       "      <td>290.000000</td>\n",
       "      <td>290.000000</td>\n",
       "      <td>290.000000</td>\n",
       "      <td>290.000000</td>\n",
       "      <td>290.000000</td>\n",
       "    </tr>\n",
       "    <tr>\n",
       "      <th>mean</th>\n",
       "      <td>457.768966</td>\n",
       "      <td>1.0</td>\n",
       "      <td>1.872414</td>\n",
       "      <td>28.343690</td>\n",
       "      <td>0.493103</td>\n",
       "      <td>0.527586</td>\n",
       "      <td>51.843205</td>\n",
       "    </tr>\n",
       "    <tr>\n",
       "      <th>std</th>\n",
       "      <td>250.845515</td>\n",
       "      <td>0.0</td>\n",
       "      <td>0.836617</td>\n",
       "      <td>14.950952</td>\n",
       "      <td>0.731132</td>\n",
       "      <td>0.807147</td>\n",
       "      <td>70.458776</td>\n",
       "    </tr>\n",
       "    <tr>\n",
       "      <th>min</th>\n",
       "      <td>2.000000</td>\n",
       "      <td>1.0</td>\n",
       "      <td>1.000000</td>\n",
       "      <td>0.420000</td>\n",
       "      <td>0.000000</td>\n",
       "      <td>0.000000</td>\n",
       "      <td>0.000000</td>\n",
       "    </tr>\n",
       "    <tr>\n",
       "      <th>25%</th>\n",
       "      <td>260.500000</td>\n",
       "      <td>1.0</td>\n",
       "      <td>1.000000</td>\n",
       "      <td>19.000000</td>\n",
       "      <td>0.000000</td>\n",
       "      <td>0.000000</td>\n",
       "      <td>13.000000</td>\n",
       "    </tr>\n",
       "    <tr>\n",
       "      <th>50%</th>\n",
       "      <td>452.000000</td>\n",
       "      <td>1.0</td>\n",
       "      <td>2.000000</td>\n",
       "      <td>28.000000</td>\n",
       "      <td>0.000000</td>\n",
       "      <td>0.000000</td>\n",
       "      <td>26.250000</td>\n",
       "    </tr>\n",
       "    <tr>\n",
       "      <th>75%</th>\n",
       "      <td>669.500000</td>\n",
       "      <td>1.0</td>\n",
       "      <td>3.000000</td>\n",
       "      <td>36.000000</td>\n",
       "      <td>1.000000</td>\n",
       "      <td>1.000000</td>\n",
       "      <td>66.200000</td>\n",
       "    </tr>\n",
       "    <tr>\n",
       "      <th>max</th>\n",
       "      <td>890.000000</td>\n",
       "      <td>1.0</td>\n",
       "      <td>3.000000</td>\n",
       "      <td>80.000000</td>\n",
       "      <td>4.000000</td>\n",
       "      <td>5.000000</td>\n",
       "      <td>512.329200</td>\n",
       "    </tr>\n",
       "  </tbody>\n",
       "</table>\n",
       "</div>"
      ],
      "text/plain": [
       "       PassengerId  Survived      Pclass         Age       SibSp       Parch  \\\n",
       "count   290.000000     290.0  290.000000  290.000000  290.000000  290.000000   \n",
       "mean    457.768966       1.0    1.872414   28.343690    0.493103    0.527586   \n",
       "std     250.845515       0.0    0.836617   14.950952    0.731132    0.807147   \n",
       "min       2.000000       1.0    1.000000    0.420000    0.000000    0.000000   \n",
       "25%     260.500000       1.0    1.000000   19.000000    0.000000    0.000000   \n",
       "50%     452.000000       1.0    2.000000   28.000000    0.000000    0.000000   \n",
       "75%     669.500000       1.0    3.000000   36.000000    1.000000    1.000000   \n",
       "max     890.000000       1.0    3.000000   80.000000    4.000000    5.000000   \n",
       "\n",
       "             Fare  \n",
       "count  290.000000  \n",
       "mean    51.843205  \n",
       "std     70.458776  \n",
       "min      0.000000  \n",
       "25%     13.000000  \n",
       "50%     26.250000  \n",
       "75%     66.200000  \n",
       "max    512.329200  "
      ]
     },
     "execution_count": 10,
     "metadata": {},
     "output_type": "execute_result"
    }
   ],
   "source": [
    "survived.describe()"
   ]
  },
  {
   "cell_type": "markdown",
   "metadata": {},
   "source": [
    "Média de idade entre os sobreviventes: aproximadamente 28 anos <br/>\n",
    "\n",
    "Qual é a média de idade entre os não sobreviventes?"
   ]
  },
  {
   "cell_type": "code",
   "execution_count": 11,
   "metadata": {
    "collapsed": false
   },
   "outputs": [
    {
     "data": {
      "text/html": [
       "<div>\n",
       "<table border=\"1\" class=\"dataframe\">\n",
       "  <thead>\n",
       "    <tr style=\"text-align: right;\">\n",
       "      <th></th>\n",
       "      <th>PassengerId</th>\n",
       "      <th>Survived</th>\n",
       "      <th>Pclass</th>\n",
       "      <th>Age</th>\n",
       "      <th>SibSp</th>\n",
       "      <th>Parch</th>\n",
       "      <th>Fare</th>\n",
       "    </tr>\n",
       "  </thead>\n",
       "  <tbody>\n",
       "    <tr>\n",
       "      <th>count</th>\n",
       "      <td>424.000000</td>\n",
       "      <td>424.0</td>\n",
       "      <td>424.000000</td>\n",
       "      <td>424.000000</td>\n",
       "      <td>424.000000</td>\n",
       "      <td>424.000000</td>\n",
       "      <td>424.000000</td>\n",
       "    </tr>\n",
       "    <tr>\n",
       "      <th>mean</th>\n",
       "      <td>442.299528</td>\n",
       "      <td>0.0</td>\n",
       "      <td>2.485849</td>\n",
       "      <td>30.626179</td>\n",
       "      <td>0.525943</td>\n",
       "      <td>0.365566</td>\n",
       "      <td>22.965456</td>\n",
       "    </tr>\n",
       "    <tr>\n",
       "      <th>std</th>\n",
       "      <td>264.739548</td>\n",
       "      <td>0.0</td>\n",
       "      <td>0.743633</td>\n",
       "      <td>14.172110</td>\n",
       "      <td>1.044760</td>\n",
       "      <td>0.878341</td>\n",
       "      <td>31.448825</td>\n",
       "    </tr>\n",
       "    <tr>\n",
       "      <th>min</th>\n",
       "      <td>1.000000</td>\n",
       "      <td>0.0</td>\n",
       "      <td>1.000000</td>\n",
       "      <td>1.000000</td>\n",
       "      <td>0.000000</td>\n",
       "      <td>0.000000</td>\n",
       "      <td>0.000000</td>\n",
       "    </tr>\n",
       "    <tr>\n",
       "      <th>25%</th>\n",
       "      <td>200.750000</td>\n",
       "      <td>0.0</td>\n",
       "      <td>2.000000</td>\n",
       "      <td>21.000000</td>\n",
       "      <td>0.000000</td>\n",
       "      <td>0.000000</td>\n",
       "      <td>7.895800</td>\n",
       "    </tr>\n",
       "    <tr>\n",
       "      <th>50%</th>\n",
       "      <td>436.000000</td>\n",
       "      <td>0.0</td>\n",
       "      <td>3.000000</td>\n",
       "      <td>28.000000</td>\n",
       "      <td>0.000000</td>\n",
       "      <td>0.000000</td>\n",
       "      <td>11.887500</td>\n",
       "    </tr>\n",
       "    <tr>\n",
       "      <th>75%</th>\n",
       "      <td>683.250000</td>\n",
       "      <td>0.0</td>\n",
       "      <td>3.000000</td>\n",
       "      <td>39.000000</td>\n",
       "      <td>1.000000</td>\n",
       "      <td>0.000000</td>\n",
       "      <td>26.550000</td>\n",
       "    </tr>\n",
       "    <tr>\n",
       "      <th>max</th>\n",
       "      <td>891.000000</td>\n",
       "      <td>0.0</td>\n",
       "      <td>3.000000</td>\n",
       "      <td>74.000000</td>\n",
       "      <td>5.000000</td>\n",
       "      <td>6.000000</td>\n",
       "      <td>263.000000</td>\n",
       "    </tr>\n",
       "  </tbody>\n",
       "</table>\n",
       "</div>"
      ],
      "text/plain": [
       "       PassengerId  Survived      Pclass         Age       SibSp       Parch  \\\n",
       "count   424.000000     424.0  424.000000  424.000000  424.000000  424.000000   \n",
       "mean    442.299528       0.0    2.485849   30.626179    0.525943    0.365566   \n",
       "std     264.739548       0.0    0.743633   14.172110    1.044760    0.878341   \n",
       "min       1.000000       0.0    1.000000    1.000000    0.000000    0.000000   \n",
       "25%     200.750000       0.0    2.000000   21.000000    0.000000    0.000000   \n",
       "50%     436.000000       0.0    3.000000   28.000000    0.000000    0.000000   \n",
       "75%     683.250000       0.0    3.000000   39.000000    1.000000    0.000000   \n",
       "max     891.000000       0.0    3.000000   74.000000    5.000000    6.000000   \n",
       "\n",
       "             Fare  \n",
       "count  424.000000  \n",
       "mean    22.965456  \n",
       "std     31.448825  \n",
       "min      0.000000  \n",
       "25%      7.895800  \n",
       "50%     11.887500  \n",
       "75%     26.550000  \n",
       "max    263.000000  "
      ]
     },
     "execution_count": 11,
     "metadata": {},
     "output_type": "execute_result"
    }
   ],
   "source": [
    "died.describe()"
   ]
  },
  {
   "cell_type": "markdown",
   "metadata": {},
   "source": [
    "Média de idade entre os não sobreviventes: aproximadamente 31 anos <br/>\n",
    "\n",
    "Qual é a proporção de sobreviventes e não sobreviventes, por faixa de idade?"
   ]
  },
  {
   "cell_type": "code",
   "execution_count": 12,
   "metadata": {
    "collapsed": false
   },
   "outputs": [
    {
     "data": {
      "image/png": "[encoded data removed]",
      "text/plain": [
       "<matplotlib.figure.Figure at 0xbba4358>"
      ]
     },
     "metadata": {},
     "output_type": "display_data"
    }
   ],
   "source": [
    "# O histograma abaixo mostra a distribuição de idade dos passageiros por faixas de 10 anos agrupados por\n",
    "# sobreviventes/não sobreviventes\n",
    "x1 = survived['Age']\n",
    "x2 = died['Age']\n",
    "plt.hist([x1,x2], bins=[0, 10, 20, 30, 40, 50, 60, 70], stacked=True)\n",
    "plt.title(\"Passengers: Blue = Survived; Green = Not Survived\")\n",
    "plt.xlabel(\"Age\")\n",
    "plt.ylabel(\"Frequency\")\n",
    "plt.show()"
   ]
  },
  {
   "cell_type": "code",
   "execution_count": 13,
   "metadata": {
    "collapsed": true
   },
   "outputs": [],
   "source": [
    "# Dividindo os grupos de sobreviventes e não sobreviventes por sexo\n",
    "survived_men = survived.loc[survived['Sex']==\"male\"]\n",
    "survived_women = survived.loc[survived['Sex']==\"female\"]\n",
    "died_men = died.loc[died['Sex']==\"male\"]\n",
    "died_women = died.loc[died['Sex']==\"female\"]"
   ]
  },
  {
   "cell_type": "markdown",
   "metadata": {},
   "source": [
    "Há diferença significativa nas proporções de sobreviventes entre os sexos?"
   ]
  },
  {
   "cell_type": "code",
   "execution_count": 14,
   "metadata": {
    "collapsed": false
   },
   "outputs": [
    {
     "data": {
      "image/png": "[encoded data removed]",
      "text/plain": [
       "<matplotlib.figure.Figure at 0xba397f0>"
      ]
     },
     "metadata": {},
     "output_type": "display_data"
    }
   ],
   "source": [
    "# O histograma abaixo mostra a distribuição de idade dos passageiros homens por faixas de 10 anos agrupados por\n",
    "# sobreviventes/não sobreviventes\n",
    "x1 = survived_men['Age']\n",
    "x2 = died_men['Age']\n",
    "plt.hist([x1,x2], bins=[0, 10, 20, 30, 40, 50, 60, 70], stacked=True)\n",
    "plt.title(\"Male Passengers: Blue = Survived; Green = Not Survived\")\n",
    "plt.xlabel(\"Age\")\n",
    "plt.ylabel(\"Frequency\")\n",
    "plt.show()"
   ]
  },
  {
   "cell_type": "code",
   "execution_count": 15,
   "metadata": {
    "collapsed": false
   },
   "outputs": [
    {
     "data": {
      "image/png": "[encoded data removed]",
      "text/plain": [
       "<matplotlib.figure.Figure at 0xbf81c88>"
      ]
     },
     "metadata": {},
     "output_type": "display_data"
    }
   ],
   "source": [
    "# O histograma abaixo mostra a distribuição de idade das passageiras mulheres por faixas de 10 anos agrupados por\n",
    "# sobreviventes/não sobreviventes\n",
    "x1 = survived_women['Age']\n",
    "x2 = died_women['Age']\n",
    "plt.hist([x1,x2], bins=[0, 10, 20, 30, 40, 50, 60, 70], stacked=True)\n",
    "plt.title(\"Female Passengers: Blue = Survived; Green = Not Survived\")\n",
    "plt.xlabel(\"Age\")\n",
    "plt.ylabel(\"Frequency\")\n",
    "plt.show()"
   ]
  },
  {
   "cell_type": "code",
   "execution_count": 16,
   "metadata": {
    "collapsed": false
   },
   "outputs": [
    {
     "name": "stdout",
     "output_type": "stream",
     "text": [
      "Homens sobreviventes:  93\n",
      "Mulheres sobreviventes:  197\n",
      "Homens que morreram:  360\n",
      "Mulheres que morreram:  64\n"
     ]
    }
   ],
   "source": [
    "# Os gráficos acima dão uma idéia de proporção, mas para termos uma idéia em números absolutos, teríamos que somar\n",
    "# os números de cada subdivisão\n",
    "# Para ver o número de homens e mulheres agrupados por sobreviventes e não sobreviventes:\n",
    "print \"Homens sobreviventes: \" , len(survived_men)\n",
    "print \"Mulheres sobreviventes: \" , len(survived_women)\n",
    "print \"Homens que morreram: \" , len(died_men)\n",
    "print \"Mulheres que morreram: \" , len(died_women)\n"
   ]
  },
  {
   "cell_type": "markdown",
   "metadata": {},
   "source": [
    "A proporção de mulheres sobreviventes é 2x maior que a de homens sobreviventes.\n",
    "Por isso a média de idade entre os sobreviventes é mais parecida com a média de idade das mulheres;\n",
    "e a média de idade entre os não sobreviventes é mais parecida com a média de idade dos homens <br/>\n",
    "Os homens significam quase 85% dos mortos.\n"
   ]
  },
  {
   "cell_type": "code",
   "execution_count": 17,
   "metadata": {
    "collapsed": false
   },
   "outputs": [
    {
     "data": {
      "text/plain": [
       "Sex\n",
       "female    0.754789\n",
       "male      0.205298\n",
       "Name: Survived, dtype: float64"
      ]
     },
     "execution_count": 17,
     "metadata": {},
     "output_type": "execute_result"
    }
   ],
   "source": [
    "# Média de sobreviventes por sexo - Para termos uma idéia em números relativos\n",
    "titanic_pd['Survived'].groupby(titanic_pd['Sex']).mean()\n"
   ]
  },
  {
   "cell_type": "markdown",
   "metadata": {},
   "source": [
    "Apenas 20% dos homens sobreviveram <br/>\n",
    "Enquanto 75% das mulheres sobreviveram  <br/>\n",
    "Por que?  <br/>\n",
    "É possível que tenham dado preferência para mulheres e crianças na hora de embarcarem nos botes salva-vidas <br/>\n",
    "\n",
    "Dentre as crianças, quantas sobreviveram e quantas morreram? <br/>\n",
    "E de quais classes elas eram?\n"
   ]
  },
  {
   "cell_type": "code",
   "execution_count": 18,
   "metadata": {
    "collapsed": false
   },
   "outputs": [
    {
     "name": "stdout",
     "output_type": "stream",
     "text": [
      "Crianças sobreviventes:  45\n",
      "Crianças não sobreviventes:  32\n",
      "Sobreviventes agrupados por classe:  Pclass\n",
      "1     4\n",
      "2    19\n",
      "3    22\n",
      "Name: PassengerId, dtype: int64\n",
      "Não sobreviventes agrupados por classe:  Pclass\n",
      "1     1\n",
      "3    31\n",
      "Name: PassengerId, dtype: int64\n",
      "Sobreviventes agrupados por sexo:  Sex\n",
      "female    24\n",
      "male      21\n",
      "Name: PassengerId, dtype: int64\n",
      "Não sobreviventes agrupados por sexo:  Sex\n",
      "female    14\n",
      "male      18\n",
      "Name: PassengerId, dtype: int64\n"
     ]
    }
   ],
   "source": [
    "print \"Crianças sobreviventes: \",survived['PassengerId'][survived['Age']<=14].count()\n",
    "print \"Crianças não sobreviventes: \",died['PassengerId'][died['Age']<=14].count()\n",
    "print \"Sobreviventes agrupados por classe: \",survived['PassengerId'][survived['Age']<=14].groupby(titanic_pd['Pclass']).count()\n",
    "print \"Não sobreviventes agrupados por classe: \",died['PassengerId'][died['Age']<=14].groupby(titanic_pd['Pclass']).count()\n",
    "print \"Sobreviventes agrupados por sexo: \",survived['PassengerId'][survived['Age']<=14].groupby(titanic_pd['Sex']).count()\n",
    "print \"Não sobreviventes agrupados por sexo: \",died['PassengerId'][died['Age']<=14].groupby(titanic_pd['Sex']).count()"
   ]
  },
  {
   "cell_type": "markdown",
   "metadata": {},
   "source": [
    "Parece mesmo que as crianças ganharam prioridade para embarcar nos botes,\n",
    "podemos ver que a porcentagem de crianças sobreviventes é de quase 60%, sendo que a maioria dos não sobreviventes\n",
    "era da terceira classe. Como a terceira classe era a parte mais baixa do navio, é possível que boa parte dessas crianças\n",
    "não tenha nem mesmo conseguido chegar ao convés, que era onde ficavam os botes. <br/>\n",
    "A proporção de sobreviventes por sexo entre as crianças prova isso, 21 meninos e 24 meninas.\n",
    "Enquanto entre os adultos, 93 homens e 197 mulheres. <br/>\n",
    "\n",
    "Voltando aos passageiros do Titanic como um todo: <br/>\n",
    "Os passageiros da primeira classe tiveram a maior proporção de sobreviventes?"
   ]
  },
  {
   "cell_type": "code",
   "execution_count": 19,
   "metadata": {
    "collapsed": false
   },
   "outputs": [
    {
     "name": "stdout",
     "output_type": "stream",
     "text": [
      "Proporção de sobreviventes por classe:  Pclass\n",
      "1    0.655914\n",
      "2    0.479769\n",
      "3    0.239437\n",
      "Name: Survived, dtype: float64\n",
      "Número de passageiros por classe:  Pclass\n",
      "1    186\n",
      "2    173\n",
      "3    355\n",
      "Name: Survived, dtype: int64\n"
     ]
    }
   ],
   "source": [
    "# Média de sobreviventes por Classe\n",
    "print \"Proporção de sobreviventes por classe: \",titanic_pd['Survived'].groupby(titanic_pd['Pclass']).mean()\n",
    "print \"Número de passageiros por classe: \",titanic_pd['Survived'].groupby(titanic_pd['Pclass']).count()"
   ]
  },
  {
   "cell_type": "markdown",
   "metadata": {},
   "source": [
    "As classes eram divididas da seguinte maneira no Titanic:\n",
    "Nos andares mais próximos ao convés, ficava a primeira classe\n",
    "Nos andares inferiores, mais próximos à casa de máquinas, ficava a terceira classe\n",
    "E nos andares intermediários, a segunda classe\n",
    "Como mostra a imagem: \n",
    "![Titanic](https://upload.wikimedia.org/wikipedia/commons/thumb/8/84/Titanic_cutaway_diagram.png/400px-Titanic_cutaway_diagram.png)\n",
    "\n",
    "Por estarem mais próximas ao convés, faz sentido a proporção de sobreviventes entre as classes superiores ser maior."
   ]
  },
  {
   "cell_type": "code",
   "execution_count": 20,
   "metadata": {
    "collapsed": false
   },
   "outputs": [
    {
     "data": {
      "image/png": "[encoded data removed]",
      "text/plain": [
       "<matplotlib.figure.Figure at 0xbfa4518>"
      ]
     },
     "metadata": {},
     "output_type": "display_data"
    }
   ],
   "source": [
    "# O histograma abaixo mostra a proporção de sobreviventes por classe, dividido por sexo\n",
    "g = sns.factorplot(x=\"Pclass\", y=\"Survived\", hue=\"Sex\", data=titanic_pd, size=6, kind=\"bar\", palette=\"muted\")\n",
    "g.despine(left=True)\n",
    "g.set_xlabels(\"Class\")\n",
    "g.set_ylabels(\"Survival Proportion\")\n",
    "g.fig.suptitle(\"Class vs. Survival Proportion\")\n",
    "plt.show()"
   ]
  },
  {
   "cell_type": "code",
   "execution_count": 21,
   "metadata": {
    "collapsed": false
   },
   "outputs": [
    {
     "data": {
      "text/plain": [
       "Pclass\n",
       "1    40\n",
       "2    15\n",
       "3    38\n",
       "Name: Survived, dtype: int64"
      ]
     },
     "execution_count": 21,
     "metadata": {},
     "output_type": "execute_result"
    }
   ],
   "source": [
    "# Números absolutos de sobreviventes homens por classe\n",
    "survived_men['Survived'].groupby(titanic_pd['Pclass']).sum()"
   ]
  },
  {
   "cell_type": "code",
   "execution_count": 22,
   "metadata": {
    "collapsed": false
   },
   "outputs": [
    {
     "data": {
      "text/plain": [
       "Pclass\n",
       "1    82\n",
       "2    68\n",
       "3    47\n",
       "Name: Survived, dtype: int64"
      ]
     },
     "execution_count": 22,
     "metadata": {},
     "output_type": "execute_result"
    }
   ],
   "source": [
    "# Números absolutos de sobreviventes mulheres por Classe\n",
    "survived_women['Survived'].groupby(titanic_pd['Pclass']).sum()"
   ]
  },
  {
   "cell_type": "markdown",
   "metadata": {},
   "source": [
    "Podemos ver em números absolutos que os passageiros da primeira classe tiveram maiores chances de sobrevivência, provavelmente por estarem mais próximos ao convés. <br/>\n",
    "\n",
    "O que podemos dizer sobre as cidades de embarque e seus passageiros?"
   ]
  },
  {
   "cell_type": "code",
   "execution_count": 23,
   "metadata": {
    "collapsed": false
   },
   "outputs": [
    {
     "data": {
      "text/plain": [
       "Embarked\n",
       "C    130\n",
       "Q     28\n",
       "S    554\n",
       "Name: PassengerId, dtype: int64"
      ]
     },
     "execution_count": 23,
     "metadata": {},
     "output_type": "execute_result"
    }
   ],
   "source": [
    "# Números absolutos de passageiros por cidade de embarque\n",
    "titanic_pd['PassengerId'].groupby(titanic_pd['Embarked']).count()"
   ]
  },
  {
   "cell_type": "code",
   "execution_count": 24,
   "metadata": {
    "collapsed": false
   },
   "outputs": [
    {
     "data": {
      "text/plain": [
       "Embarked\n",
       "C    0.607692\n",
       "Q    0.285714\n",
       "S    0.362816\n",
       "Name: Survived, dtype: float64"
      ]
     },
     "execution_count": 24,
     "metadata": {},
     "output_type": "execute_result"
    }
   ],
   "source": [
    "# Média de sobrevivente por cidade de embarque\n",
    "titanic_pd['Survived'].groupby(titanic_pd['Embarked']).mean()"
   ]
  },
  {
   "cell_type": "code",
   "execution_count": 25,
   "metadata": {
    "collapsed": false
   },
   "outputs": [
    {
     "data": {
      "text/plain": [
       "Embarked\n",
       "C    68.296767\n",
       "Q    18.265775\n",
       "S    27.476284\n",
       "Name: Fare, dtype: float64"
      ]
     },
     "execution_count": 25,
     "metadata": {},
     "output_type": "execute_result"
    }
   ],
   "source": [
    "# Média do preço da passagem por cidade de embarque\n",
    "titanic_pd['Fare'].groupby(titanic_pd['Embarked']).mean()"
   ]
  },
  {
   "cell_type": "markdown",
   "metadata": {},
   "source": [
    "Com as informações acima podemos ter uma certa noção que Southampton é a cidade mais populosa; \n",
    "Queenstown é a cidade mais pobre e Cherbourg a cidade mais rica. <br/>\n",
    "Vamos olhar mais a fundo? <br/>"
   ]
  },
  {
   "cell_type": "code",
   "execution_count": 26,
   "metadata": {
    "collapsed": false
   },
   "outputs": [
    {
     "data": {
      "text/plain": [
       "Pclass\n",
       "1    74\n",
       "2    15\n",
       "3    41\n",
       "Name: PassengerId, dtype: int64"
      ]
     },
     "execution_count": 26,
     "metadata": {},
     "output_type": "execute_result"
    }
   ],
   "source": [
    "# Distribuição de passageiros por Classe, na cidade de Cherbourg\n",
    "titanic_pd['PassengerId'][titanic_pd['Embarked']==\"C\"].groupby(titanic_pd[\"Pclass\"]).count()"
   ]
  },
  {
   "cell_type": "markdown",
   "metadata": {},
   "source": [
    "Porcentagem de passageiros da primeira classe = 56%"
   ]
  },
  {
   "cell_type": "code",
   "execution_count": 27,
   "metadata": {
    "collapsed": false
   },
   "outputs": [
    {
     "data": {
      "text/plain": [
       "Pclass\n",
       "1     2\n",
       "2     2\n",
       "3    24\n",
       "Name: PassengerId, dtype: int64"
      ]
     },
     "execution_count": 27,
     "metadata": {},
     "output_type": "execute_result"
    }
   ],
   "source": [
    "# Distribuição de passageiros por Classe, na cidade de Queenstown\n",
    "titanic_pd['PassengerId'][titanic_pd['Embarked']==\"Q\"].groupby(titanic_pd[\"Pclass\"]).count()"
   ]
  },
  {
   "cell_type": "markdown",
   "metadata": {},
   "source": [
    "Porcentagem de passageiros da terceira classe = 85%"
   ]
  },
  {
   "cell_type": "code",
   "execution_count": 28,
   "metadata": {
    "collapsed": false
   },
   "outputs": [
    {
     "data": {
      "text/plain": [
       "Pclass\n",
       "1    108\n",
       "2    156\n",
       "3    290\n",
       "Name: PassengerId, dtype: int64"
      ]
     },
     "execution_count": 28,
     "metadata": {},
     "output_type": "execute_result"
    }
   ],
   "source": [
    "# Distribuição de passageiros por Classe, na cidade de Southampton\n",
    "titanic_pd['PassengerId'][titanic_pd['Embarked']==\"S\"].groupby(titanic_pd[\"Pclass\"]).count()"
   ]
  },
  {
   "cell_type": "markdown",
   "metadata": {},
   "source": [
    "Porcentagem de passageiros da primeira classe = 20% <br/>\n",
    "Com isso, confirmamos que Southampton é a cidade mais populosa; Cherbourg a cidade mais elitizada;\n",
    "e Queenstown a cidade mais pobre e/ou menos populosa."
   ]
  },
  {
   "cell_type": "code",
   "execution_count": 29,
   "metadata": {
    "collapsed": false
   },
   "outputs": [
    {
     "data": {
      "text/html": [
       "<div>\n",
       "<table border=\"1\" class=\"dataframe\">\n",
       "  <thead>\n",
       "    <tr style=\"text-align: right;\">\n",
       "      <th></th>\n",
       "      <th>Age</th>\n",
       "      <th>Fare</th>\n",
       "    </tr>\n",
       "  </thead>\n",
       "  <tbody>\n",
       "    <tr>\n",
       "      <th>Age</th>\n",
       "      <td>1.000000</td>\n",
       "      <td>0.096067</td>\n",
       "    </tr>\n",
       "    <tr>\n",
       "      <th>Fare</th>\n",
       "      <td>0.096067</td>\n",
       "      <td>1.000000</td>\n",
       "    </tr>\n",
       "  </tbody>\n",
       "</table>\n",
       "</div>"
      ],
      "text/plain": [
       "           Age      Fare\n",
       "Age   1.000000  0.096067\n",
       "Fare  0.096067  1.000000"
      ]
     },
     "execution_count": 29,
     "metadata": {},
     "output_type": "execute_result"
    }
   ],
   "source": [
    "# Fazer correlação entre idade e preço da passagem\n",
    "df = pd.read_csv('D:/Udacity/P2/titanic_data.csv', usecols=[5,9])\n",
    "df.corr()"
   ]
  },
  {
   "cell_type": "markdown",
   "metadata": {},
   "source": [
    "0.096 significa que não há correlação entre as variáveis Idade e Preço da passagem. <br/>\n",
    "Eu imaginei que as pessoas mais velhas comprariam tickets mais caros. \n",
    "Vamos ver num gráfico de dispersão?"
   ]
  },
  {
   "cell_type": "code",
   "execution_count": 30,
   "metadata": {
    "collapsed": false
   },
   "outputs": [
    {
     "data": {
      "image/png": "[encoded data removed]",
      "text/plain": [
       "<matplotlib.figure.Figure at 0xc14f8d0>"
      ]
     },
     "metadata": {},
     "output_type": "display_data"
    }
   ],
   "source": [
    "#Plota o gráfico de dispersão\n",
    "g = sns.jointplot(x=\"Age\", y=\"Fare\", data=df);\n",
    "g.fig.suptitle(\"Age vs. Fare\")\n",
    "sns.plt.show()"
   ]
  },
  {
   "cell_type": "markdown",
   "metadata": {},
   "source": [
    "Podemos ver que realmente as duas variáveis não possuem relação."
   ]
  },
  {
   "cell_type": "code",
   "execution_count": 31,
   "metadata": {
    "collapsed": false
   },
   "outputs": [
    {
     "name": "stdout",
     "output_type": "stream",
     "text": [
      "1.0\n",
      "36\n"
     ]
    }
   ],
   "source": [
    "# Qual foi o grupo de pelo menos 20 pessoas, com a maior proporção de sobreviventes?\n",
    "print titanic_pd['Survived'][titanic_pd['Embarked']==\"C\"][titanic_pd[\"Sex\"]==\"female\"][titanic_pd[\"Pclass\"]==1][titanic_pd[\"Age\"]<>50].mean()\n",
    "print titanic_pd['Survived'][titanic_pd['Embarked']==\"C\"][titanic_pd[\"Sex\"]==\"female\"][titanic_pd[\"Pclass\"]==1][titanic_pd[\"Age\"]<>50].count()"
   ]
  },
  {
   "cell_type": "markdown",
   "metadata": {},
   "source": [
    "Todas as 36 mulheres que embarcaram na primeira classe em Cherbourg e tinham idade diferente de 50 anos, sobreviveram."
   ]
  },
  {
   "cell_type": "code",
   "execution_count": 32,
   "metadata": {
    "collapsed": false
   },
   "outputs": [
    {
     "name": "stdout",
     "output_type": "stream",
     "text": [
      "0.0689655172414\n",
      "29\n"
     ]
    }
   ],
   "source": [
    "# Qual foi o grupo de pelo menos 20 pessoas, com a menor proporção de sobreviventes?\n",
    "print titanic_pd['Survived'][titanic_pd['Embarked']==\"S\"][titanic_pd[\"Sex\"]==\"male\"][titanic_pd[\"Pclass\"]==3][titanic_pd[\"Age\"]>=40].mean()\n",
    "print titanic_pd['Survived'][titanic_pd['Embarked']==\"S\"][titanic_pd[\"Sex\"]==\"male\"][titanic_pd[\"Pclass\"]==3][titanic_pd[\"Age\"]>=40].count()"
   ]
  },
  {
   "cell_type": "markdown",
   "metadata": {},
   "source": [
    "Dos 29 homens que embarcaram na terceira classe em Southampton, apenas 2 sobreviveram (aproximadamente 7%)"
   ]
  },
  {
   "cell_type": "markdown",
   "metadata": {},
   "source": [
    "### Limitações\n",
    "\n",
    "Sabe-se que o navio Titanic zarpou com 1316 passageiros a bordo. Na base de dados constam apenas 891 deles. Seria interessante ter os dados de todos passageiros, assim como os dados da tripulação, que somava 889 pessoas. Além disso acredito que, ao comprar os tickets, as pessoas tenham preenchido uma ficha na qual constam suas profissões. Seria muito interessante comparar o perfil profissional das pessoas a bordo. <br/>\n",
    "\n",
    "A categoria mais importante com dados faltante foi a idade: de 891 passageiros, somente 714 têm o campo de idade preenchido. Desses, 18 pessoas têm a idade estimada. Outra categoria com dados faltantes que serviria para uma análise mais curiosa é a cabine. Um mapa do navio poderia ser feito relacionando a sobrevivência com a cabine dos passageiros; dessa maneira talvez fosse possível saber qual parte do navio inundou primeiro ou foi mais afetada. <br/>\n",
    "\n",
    "Além disso, seria de grande valia saber os botes com os quais cada passageiro foi resgatado, assim poderia-se saber se eles foram usados com capacidade máxima ou não para estimar uma quantidade de passageiros que poderiam ser salvos em caso negativo.\n",
    "Por fim, a título de curiosidade, se o endereço de cada passageiro fosse sabido, poderia-se fazer um mapeamento das áreas que mais sofreram perdas de cada cidade."
   ]
  },
  {
   "cell_type": "markdown",
   "metadata": {
    "collapsed": true
   },
   "source": [
    "### Conclusões\n",
    " \n",
    "A princípio, proporção entre homens e mulheres no navio me deixou em dúvida se havia pessoas da tripulação no meio dos dados.\n",
    "Como todos os passageiros possuíam classe, inferi que todos eram passageiros e não tripulantes. \n",
    "Como o navio zarpou no início do século XX, é possível que houvesse homens viajando a trabalho sem suas esposas, já que estas não estavam inseridas no mercado de trabalho como hoje. <br/>\n",
    "\n",
    "Logo no ínicio da análise, vemos que a média de idade dos sobreviventes se aproximava muito da média de idade das mulheres e a média de idade dos não sobreviventes se aproximava muito da média de idade dos homens, indicando que o gênero dos passageiros teve um papel importante no índice de sobrevivência. Analisando os histogramas que mostram a sobrevivência por faixa de idade dos dois gêneros, podemos inferir que provavelmente houve uma ordem que privilegiava a entrada das mulheres primeiro nos botes salva-vidas. Nestes mesmos histogramas vemos que a proporção de sobreviventes entre as crianças é bem grande, principalmente entre os meninos. A proporção entre meninos e meninas sobreviventes é de 47%-53%, bem diferente dos 32%-68% entre homens e mulheres sobreviventes. Assim, vemos que as crianças provavelmente também foram privilegiadas para entrar nos botes.\n",
    "\n",
    "Como era de se esperar, os passageiros da primeira classe tiveram as maiores proporções de sobreviventes, seguido pelos passageiros da segunda classe; os passageiros da terceira classe foram os que menos sobreviveram. Como o acidente aconteceu por volta da meia noite, a maioria dos passageiros estava em seus aposentos. E como os botes ficam no convés, os passageiros da primeira classe, na teoria, demorariam muito menos tempo para chegar até lá. Os passageiros da terceira classe, além de demorar mais tempo para chegar ao convés, ainda tinham que lugar com a água entrando do navio, que inundaram os aposentos da terceira classe primeiro.\n",
    "\n",
    "Vemos que podemos inferir características das cidades pela quantidade de passageiros e pelos preços pagos por eles. A cidade de Cherbourg, na França, teve a maior proporção de sobreviventes. Não coincidentemente, esta teve a maior média de preços dos tickets, portanto, a maior proporção de passageiros na primeira classe.\n",
    "\n",
    "Para finalizar, supus que os passageiros mais velhos teriam mais dinheiro para comprar as passagens mais caras, mas como o gráfico de dispersão e o r de Pearson mostraram, a suposição foi errônea.\n",
    "\n",
    "Para verificar a veracidade das conclusões desta análise, poderiam-se formular hipóteses e realizar testes de hipóteses para confirmá-las ou rejeitá-las. Entretanto, o resultado dos testes não seriam definitivos, devido às limitações dos dados; estes podem ser significativamente diferentes se contemplarem todos os passageiros a bordo."
   ]
  }
 ],
 "metadata": {
  "anaconda-cloud": {},
  "kernelspec": {
   "display_name": "Python [conda root]",
   "language": "python",
   "name": "conda-root-py"
  },
  "language_info": {
   "codemirror_mode": {
    "name": "ipython",
    "version": 2
   },
   "file_extension": ".py",
   "mimetype": "text/x-python",
   "name": "python",
   "nbconvert_exporter": "python",
   "pygments_lexer": "ipython2",
   "version": "2.7.12"
  }
 },
 "nbformat": 4,
 "nbformat_minor": 1
}
